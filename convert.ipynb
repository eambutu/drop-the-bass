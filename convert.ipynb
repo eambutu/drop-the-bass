{
 "cells": [
  {
   "cell_type": "code",
   "execution_count": 49,
   "metadata": {
    "collapsed": true
   },
   "outputs": [],
   "source": [
    "from struct import pack, unpack\n",
    "import pyaudio\n",
    "import wave\n",
    "import sys"
   ]
  },
  {
   "cell_type": "code",
   "execution_count": 119,
   "metadata": {},
   "outputs": [
    {
     "name": "stdout",
     "output_type": "stream",
     "text": [
      "2\n"
     ]
    }
   ],
   "source": [
    "wf = wave.open('./piano2.wav', 'rb')\n",
    "print(wf.getnchannels())\n",
    "\n",
    "\n",
    "# data = wf.readframes(100)\n",
    "# print (data)\n",
    "# print (data[0])\n",
    "# print (data[1])\n",
    "# print (pack('B', data[0]))"
   ]
  },
  {
   "cell_type": "code",
   "execution_count": 58,
   "metadata": {},
   "outputs": [],
   "source": [
    "p = pyaudio.PyAudio()\n",
    "stream = p.open(format=p.get_format_from_width(wf.getsampwidth()),\n",
    "                # channels=wf.getnchannels(),\n",
    "                channels=1,\n",
    "                rate=wf.getframerate(),\n",
    "                output=True)"
   ]
  },
  {
   "cell_type": "code",
   "execution_count": 120,
   "metadata": {},
   "outputs": [],
   "source": [
    "CHUNK = 1024\n",
    "data = wf.readframes(CHUNK)\n",
    "\n",
    "def invertbyte(x):\n",
    "    if x == 0:\n",
    "        return 0\n",
    "    return 65535 - x\n",
    "\n",
    "def convert(data):\n",
    "    # data = bytearray(data)\n",
    "    output = b''\n",
    "    for i in range(0, len(data), 4):\n",
    "        output += pack('H', data[i] + data[i+1] * 256)\n",
    "        #output += pack('B', data[i]) + pack('B', data[i+1])\n",
    "        output += pack('H', invertbyte(data[i] + data[i+1] * 256))\n",
    "        #output += pack('B', 0) + pack('B', 0)\n",
    "    return output\n",
    "\n",
    "wvData = b''\n",
    "while data != b'':\n",
    "    temp = convert(data)\n",
    "    wvData += temp\n",
    "    data = wf.readframes(CHUNK)\n",
    "# while data != '':\n",
    "#    wvData += data\n",
    "#    amp = -unpack('h', data)[0]\n",
    "#    wvData += pack('h', amp)\n",
    "#    data = wf.readframes(CHUNK)"
   ]
  },
  {
   "cell_type": "code",
   "execution_count": 121,
   "metadata": {
    "collapsed": true
   },
   "outputs": [],
   "source": [
    "wf_out = wave.open('imperial_march_trip.wav', 'w')\n",
    "wf_out.setparams((2, 2, 48000, 0, 'NONE', 'not compressed'))\n",
    "wf_out.writeframes(wvData)\n",
    "wf_out.close()"
   ]
  },
  {
   "cell_type": "code",
   "execution_count": null,
   "metadata": {
    "collapsed": true
   },
   "outputs": [],
   "source": [
    "CHUNK = 1024\n",
    "data = wf.readframes(CHUNK)"
   ]
  },
  {
   "cell_type": "code",
   "execution_count": null,
   "metadata": {
    "collapsed": true
   },
   "outputs": [],
   "source": [
    "print(data)z"
   ]
  },
  {
   "cell_type": "code",
   "execution_count": null,
   "metadata": {
    "collapsed": true
   },
   "outputs": [],
   "source": [
    "unpack('h', data)"
   ]
  },
  {
   "cell_type": "code",
   "execution_count": 108,
   "metadata": {},
   "outputs": [
    {
     "data": {
      "text/plain": [
       "b'\\xf5\\xff\\x00\\x00\\x03\\x00\\x00\\x00\\xea\\xff\\x00\\x00\\x00\\x00\\x00\\x00\\xf9\\xff\\x00\\x00\\xf1\\xff\\x00\\x00\\xfd\\xff\\x00\\x00\\x00\\x00\\x00\\x00\\xf9\\xff\\x00\\x00\\xf9\\xff\\x00\\x00\\xf5\\xff\\x00\\x00\\xf1\\xff\\x00\\x00\\x00\\x00\\x00\\x00\\xfd\\xff\\x00\\x00\\xf9\\xff\\x00\\x00\\xf9\\xff\\x00\\x00\\xfd\\xff\\x00\\x00\\xfd\\xff\\x00\\x00\\x00\\x00\\x00\\x00\\xfd\\xff\\x00\\x00\\xfd\\xff\\x00\\x00\\xf9\\xff\\x00\\x00\\xfd\\xff\\x00\\x00\\xee\\xff\\x00\\x00\\x00\\x00\\x00\\x00'"
      ]
     },
     "execution_count": 108,
     "metadata": {},
     "output_type": "execute_result"
    }
   ],
   "source": [
    "wvData[:100]\n"
   ]
  }
 ],
 "metadata": {
  "kernelspec": {
   "display_name": "Python 3",
   "language": "python",
   "name": "python3"
  },
  "language_info": {
   "codemirror_mode": {
    "name": "ipython",
    "version": 3
   },
   "file_extension": ".py",
   "mimetype": "text/x-python",
   "name": "python",
   "nbconvert_exporter": "python",
   "pygments_lexer": "ipython3",
   "version": "3.6.1"
  }
 },
 "nbformat": 4,
 "nbformat_minor": 2
}
